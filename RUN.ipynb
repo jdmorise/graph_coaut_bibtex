{
 "cells": [
  {
   "cell_type": "markdown",
   "metadata": {},
   "source": [
    "### jupyter Notebook with Example Run "
   ]
  },
  {
   "cell_type": "code",
   "execution_count": 1,
   "metadata": {
    "collapsed": false
   },
   "outputs": [
    {
     "name": "stdout",
     "output_type": "stream",
     "text": [
      "A Graph Display Software for bibtex databases\n",
      "    Copyright (C) 2015-2019 JD Morise, jdmorise a t yahoo.com\n",
      "    \n",
      "    This program is free software: you can redistribute it and/or modify\n",
      "    it under the terms of the GNU General Public License as published by\n",
      "    the Free Software Foundation, either version 3 of the License, or\n",
      "    (at your option) any later version.\n",
      "\n",
      "    This program is distributed in the hope that it will be useful,\n",
      "    but WITHOUT ANY WARRANTY; without even the implied warranty of\n",
      "    MERCHANTABILITY or FITNESS FOR A PARTICULAR PURPOSE.  See the\n",
      "    GNU General Public License for more details.\n",
      "\n",
      "    You should have received a copy of the GNU General Public License\n",
      "    along with this program.  If not, see <http://www.gnu.org/licenses/>. \n",
      "    \n",
      "    \n",
      "usage: \"Examples: \n",
      "\n",
      "optional arguments:\n",
      "  -h, --help            show this help message and exit\n",
      "  -if INPUT_FILENAME, --input_filename INPUT_FILENAME\n",
      "                        Filename of publication database in bibtex format\n",
      "  -gf GRAPH_FILENAME, --graph_filename GRAPH_FILENAME\n",
      "                        Filename of graph output stored as png\n",
      "  -ma MAIN_AUTHOR_NAME, --main_author_name MAIN_AUTHOR_NAME\n",
      "  -ert EDGE_RELATION_THRES, --edge_relation_thres EDGE_RELATION_THRES\n",
      "                        Only add edges with ERT or more number of relations\n",
      "  -art AUTHOR_RELATION_THRES, --author_relation_thres AUTHOR_RELATION_THRES\n",
      "                        Only add authors with ART or more number of relations\n",
      "  -apt AUTHOR_PUBLICATION_THRES, --author_publication_thres AUTHOR_PUBLICATION_THRES\n",
      "                        Only add authors with APT number of publications\n",
      "  -lvl LEVEL, --level LEVEL\n",
      "  -b BEFORE, --before BEFORE\n",
      "                        Only use Publications before YEAR for the graph\n",
      "  -a AFTER, --after AFTER\n",
      "                        Only use Publications after YEAR for the graph\n",
      "  -gp GRAPH_PROGRAMM, --graph_programm GRAPH_PROGRAMM\n",
      "                        Graph Programm for rendering the graph. one of the\n",
      "                        following: fdp,dot,sfdp,circo,twopi.\n"
     ]
    }
   ],
   "source": [
    "%run graph_coaut_bibtex --help"
   ]
  },
  {
   "cell_type": "code",
   "execution_count": null,
   "metadata": {
    "collapsed": true
   },
   "outputs": [],
   "source": []
  }
 ],
 "metadata": {
  "kernelspec": {
   "display_name": "Python 3",
   "language": "python",
   "name": "python3"
  },
  "language_info": {
   "codemirror_mode": {
    "name": "ipython",
    "version": 3
   },
   "file_extension": ".py",
   "mimetype": "text/x-python",
   "name": "python",
   "nbconvert_exporter": "python",
   "pygments_lexer": "ipython3",
   "version": "3.5.1"
  }
 },
 "nbformat": 4,
 "nbformat_minor": 0
}
